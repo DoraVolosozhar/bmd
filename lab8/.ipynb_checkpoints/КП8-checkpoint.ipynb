{
 "cells": [
  {
   "cell_type": "markdown",
   "metadata": {
    "colab_type": "text",
    "id": "weuwGEo2mJBC"
   },
   "source": [
    "# Дисперсійний аналіз"
   ]
  },
  {
   "cell_type": "markdown",
   "metadata": {
    "colab_type": "text",
    "id": "ZUzN4OAhmxkD"
   },
   "source": [
    "##Теоретичні відомості"
   ]
  },
  {
   "cell_type": "markdown",
   "metadata": {
    "colab_type": "text",
    "id": "GCJ4px_JmMeY"
   },
   "source": [
    "**Дисперсійний аналіз** - статистичний метод дослідження взаємозв'язку. Застосовується для аналізу впливу якісної змінної  на одну залежну (кількісну) змінну.\n",
    "В основі дисперсійного аналізу лежить припущення, що одні змінні можливо розглядати як причини (незалежні змінні), інші - як наслідки (залежні змінні). Незалежні змінні в дисперсійному аналізі називають факторами.\n",
    " У зарубежній літературі дисперсійний аналіз часто обозначається як ANOVA, що переводиться як аналіз варіативності (Analysis of Variance).\n",
    "\n",
    "Дисперсійний аналіз - параметричний метод.\n",
    "\n",
    "\n"
   ]
  },
  {
   "cell_type": "markdown",
   "metadata": {
    "colab_type": "text",
    "id": "t1MGzbZKm0QY"
   },
   "source": [
    "### Область застосування"
   ]
  },
  {
   "cell_type": "markdown",
   "metadata": {
    "colab_type": "text",
    "id": "u6P7khWWm16u"
   },
   "source": [
    "ANOVA використовують для визначення статистичних відмінностей у *середніх* значення двох або більше групп."
   ]
  },
  {
   "cell_type": "markdown",
   "metadata": {
    "colab_type": "text",
    "id": "LOW2EJNpm5oi"
   },
   "source": [
    "### Вимоги до даних"
   ]
  },
  {
   "cell_type": "markdown",
   "metadata": {
    "colab_type": "text",
    "id": "ldtCTT-2m6tf"
   },
   "source": [
    "Ваші дані повинні відповідати наступним вимогам:\n",
    "1. Залежна змінна має бути безперервною (кількісною).\n",
    "2. Незалежна змінна має бути категоріальною (містити дві або більше груп).\n",
    "3. Групи є незалежними.\n",
    "4. Залежна змінна має нормальний розподіл.\n",
    "5. Однорідність дисперсій. Групи мають приблизно однакові дисперсії.\n",
    "6. Залежна змінна не містить викидів.\n",
    "7. Кожна група має містити принаймні 6 спостережень.\n",
    "8. Сбалансований дизайн. В ідеалі, групи мають бути однаковими за розміром.\n"
   ]
  },
  {
   "cell_type": "markdown",
   "metadata": {
    "colab_type": "text",
    "id": "zcDHzLIZm6_R"
   },
   "source": [
    "### Гіпотеза"
   ]
  },
  {
   "cell_type": "markdown",
   "metadata": {
    "colab_type": "text",
    "id": "pYFVPpI6m899"
   },
   "source": [
    "Гіпотеза, яка перевіряєть даним тестом може бути виражена наступним чином:\n",
    "\n",
    "$H_0 : μ_1  = μ_2 = ... =  μ_n $ («середні  незалежних груп рівні»)\n",
    "\n",
    "$H_1 : μ_1  ≠ μ_2 ≠ ... ≠ μ_n$ («середні  незалежних груп відмінні»)"
   ]
  },
  {
   "cell_type": "markdown",
   "metadata": {
    "colab_type": "text",
    "id": "zo71OMQ6m9HF"
   },
   "source": [
    "### Алгоритм розрахунку"
   ]
  },
  {
   "cell_type": "markdown",
   "metadata": {
    "colab_type": "text",
    "id": "XWDrm4xAnDiE"
   },
   "source": [
    "Припустимо, що є три незалежні групи кожна з яких пройшла тест на запам'ятовування 10 слів. Першій групі слова демонструвалися з низькою швидкістю - 1 слово в 5 секунд, другій  з середньою швидкістю - 1 слово в 2 секунди, і третій групі з великою швидкістю - 1 слово в секунду.\n",
    "\n",
    "Прикладом задачі, яка вирішується методом дисперсійного аналізу є аналіз впливу швидкості демонстрації слів на результат тесту. \n",
    "\n",
    "n  | Група 1 (низька швидкість) | Група 2 (середня швидкість) | Група 3 (висока швидкість) |\n",
    "------------- | ------------- |--------- | ------------- | \n",
    "1  | 8   | 7   | 4   | \n",
    "2  | 7   | 8   |5   | \n",
    "3  | 9   | 5   |3   |\n",
    "4  | 5   | 4   |6   | \n",
    "5  | 6  | 6   |2  |  \n",
    "6  | 8   | 7  |4  | \n",
    "Сума  | 43   | 37  |24   |\n",
    "Середні  | 7,17   | 3,17   |4  | \n",
    "\n",
    "Загальна сума - 104\n",
    "\n",
    "Основні величини для однофакторного дисперсійного аналізу:\n",
    "1. $T_c$, cуми індивідуальних значень по кожнії з груп: 43, 37, 24.\n",
    "2. $\\sum{T^2_c}$,  cума квадратів сумарних значень по кожній з груп: $43^2 +  37^2 + 24^2 = 3794$\n",
    "3. $c$, кількість умов (градацій фактора/ груп): 3\n",
    "4. $n$, кількість досліджень в групах: 6, 6, 6.\n",
    "5. $N$, загальна кількість досліджень: 18.\n",
    "6. $(\\sum{x_i})^2$, квадрат загальної суми індивідуальних значень: 10 816\n",
    "7. $\\frac{(\\sum{x_i})^2}{N}$,Константа, яку потрібно відняти від кожної суми квадратів:  600,9\n",
    "8. $x_i$, індивідуальне значення\n",
    "9. $\\sum({x_i}^2)$, сума квадратів індивідуальних значень.\n",
    "\n",
    "\n",
    "Тоді, послідовність операцій в однофакторному дисперсійному аналізі виглядає наступним чином:\n",
    "1. Розрахувати внутрішньогрупову дисперсію ($SS_{факт}$).\n",
    "\n",
    "$$ SS_{факт}  = \\frac{\\sum{T^2_c}}{n} - \\frac{(\\sum{x_i})^2}{N} = \\frac{3794}{6} - \\frac{10 816}{18} = 31,44$$\n",
    "\n",
    "2. Розрахувати загальногрупову дисперсію ($SS_{заг}$).\n",
    "$$ SS_{заг} = \\sum({x_i}^2) - \\frac{(\\sum{x_i})^2}{N} =  8^2+7^2+9^2+5^2+6^2+8^2+7^2+7^2+8^2+5^2+ 4^2+ 6^2+ 7^2+ 4^2+ 5^2+ 3^2+ 6^2+ 2^2+ 4^2 - \\frac{104^2}{18} = 63,11$$\n",
    "\n",
    "3. Розрахувати випадкову (залишкову) величину $SS_{вип}$\n",
    "$$ SS_{вип} = SS_{заг} - SS_{факт} = 63,11 -31,44 = 31,67 $$\n",
    "\n",
    "4. Визначити кількість ступенів свободи:\n",
    "$$d_{факт} = c - 1 = 3 - 1 = 2$$\n",
    "$$d_{заг} = N - 1 = 18 - 1 = 17$$\n",
    "$$d_{вип} = d_{заг} - d_{факт} = 17 - 2 = 15$$\n",
    "\n",
    "5. Розділити кожну SS на відповідне число ступенів свободи:\n",
    "$$MS_{факт} = \\frac{SS_{факт}}{d_{факт}} = \\frac{31,44}{2} = 15,72$$\n",
    "$$MS_{вип} = \\frac{SS_{вип}}{d_{вип}} = \\frac{31,67}{15} = 2,11$$\n",
    "\n",
    "6. Розрахувати значення $F_{емпір}$\n",
    "$$ F_{емпір} = \\frac{MS_{факт}}{MS_{вип}} = \\frac{15,72}{2,11} = 7,45 $$\n",
    "\n",
    "7. Визначити критичне значення F по таблиці критичних значень: \n",
    "\n",
    "$$F_{крит(2,15)} = 3,7 $$\n",
    "\n",
    "8. Співставити емпіричне та критичне значення F.\n",
    "\n",
    "При $F_{емпір} \\geq F_{крит(2,15)}$ нульова гіпотеза про рівність середніх відхиляється.\n",
    "\n",
    "$$7,45 > 3,7$$ - рівність середніх не підтверджена.\n"
   ]
  },
  {
   "cell_type": "markdown",
   "metadata": {
    "colab_type": "text",
    "id": "9qiU_OebnDpv"
   },
   "source": [
    "### Завдання"
   ]
  },
  {
   "cell_type": "markdown",
   "metadata": {
    "colab_type": "text",
    "id": "NlTSSN6x6yTz"
   },
   "source": [
    "1. Розрахувати та вивести у вигляді таблиці статистичні характиристики даних (середні та стандартні відхилення для кожної з груп).\n",
    "2. Побудувати графік розкиду в групах.\n",
    "3. Побудувати функцію, що реалізовує однофакторний дисперсійний аналіз.\n",
    "4. Вивести результати розрахунку кожного з етапів вказаних вище у вигляді таблиці.\n",
    "5. Перевірити результат роботи функції на реальних або сгенерованих даних. Зробити висновок."
   ]
  },
  {
   "cell_type": "code",
   "execution_count": 21,
   "metadata": {},
   "outputs": [],
   "source": [
    "import pandas as pd  \n",
    "import numpy as np \n",
    "import matplotlib.pyplot as mp  \n",
    "import math  \n",
    "%matplotlib inline"
   ]
  },
  {
   "cell_type": "code",
   "execution_count": 4,
   "metadata": {},
   "outputs": [
    {
     "name": "stdout",
     "output_type": "stream",
     "text": [
      "This data shows the ZNO points between 200 entrants in Kiev\n"
     ]
    },
    {
     "data": {
      "text/html": [
       "<div>\n",
       "<style scoped>\n",
       "    .dataframe tbody tr th:only-of-type {\n",
       "        vertical-align: middle;\n",
       "    }\n",
       "\n",
       "    .dataframe tbody tr th {\n",
       "        vertical-align: top;\n",
       "    }\n",
       "\n",
       "    .dataframe thead th {\n",
       "        text-align: right;\n",
       "    }\n",
       "</style>\n",
       "<table border=\"1\" class=\"dataframe\">\n",
       "  <thead>\n",
       "    <tr style=\"text-align: right;\">\n",
       "      <th></th>\n",
       "      <th>Ukranian</th>\n",
       "      <th>Math</th>\n",
       "      <th>physics</th>\n",
       "    </tr>\n",
       "  </thead>\n",
       "  <tbody>\n",
       "    <tr>\n",
       "      <th>0</th>\n",
       "      <td>162.0</td>\n",
       "      <td>172.0</td>\n",
       "      <td>206.0</td>\n",
       "    </tr>\n",
       "    <tr>\n",
       "      <th>1</th>\n",
       "      <td>171.0</td>\n",
       "      <td>161.0</td>\n",
       "      <td>182.0</td>\n",
       "    </tr>\n",
       "    <tr>\n",
       "      <th>2</th>\n",
       "      <td>133.0</td>\n",
       "      <td>158.0</td>\n",
       "      <td>141.0</td>\n",
       "    </tr>\n",
       "    <tr>\n",
       "      <th>3</th>\n",
       "      <td>154.0</td>\n",
       "      <td>205.0</td>\n",
       "      <td>169.0</td>\n",
       "    </tr>\n",
       "    <tr>\n",
       "      <th>4</th>\n",
       "      <td>157.0</td>\n",
       "      <td>117.0</td>\n",
       "      <td>193.0</td>\n",
       "    </tr>\n",
       "    <tr>\n",
       "      <th>5</th>\n",
       "      <td>146.0</td>\n",
       "      <td>166.0</td>\n",
       "      <td>187.0</td>\n",
       "    </tr>\n",
       "    <tr>\n",
       "      <th>6</th>\n",
       "      <td>215.0</td>\n",
       "      <td>203.0</td>\n",
       "      <td>190.0</td>\n",
       "    </tr>\n",
       "    <tr>\n",
       "      <th>7</th>\n",
       "      <td>192.0</td>\n",
       "      <td>176.0</td>\n",
       "      <td>160.0</td>\n",
       "    </tr>\n",
       "    <tr>\n",
       "      <th>8</th>\n",
       "      <td>158.0</td>\n",
       "      <td>149.0</td>\n",
       "      <td>190.0</td>\n",
       "    </tr>\n",
       "    <tr>\n",
       "      <th>9</th>\n",
       "      <td>169.0</td>\n",
       "      <td>174.0</td>\n",
       "      <td>177.0</td>\n",
       "    </tr>\n",
       "  </tbody>\n",
       "</table>\n",
       "</div>"
      ],
      "text/plain": [
       "   Ukranian   Math  physics\n",
       "0     162.0  172.0    206.0\n",
       "1     171.0  161.0    182.0\n",
       "2     133.0  158.0    141.0\n",
       "3     154.0  205.0    169.0\n",
       "4     157.0  117.0    193.0\n",
       "5     146.0  166.0    187.0\n",
       "6     215.0  203.0    190.0\n",
       "7     192.0  176.0    160.0\n",
       "8     158.0  149.0    190.0\n",
       "9     169.0  174.0    177.0"
      ]
     },
     "execution_count": 4,
     "metadata": {},
     "output_type": "execute_result"
    }
   ],
   "source": [
    "data =  pd.DataFrame ( {\n",
    "    'Ukranian': np.around(np.random.normal(170,20,10)), \n",
    "    'Math':  np.around(np.random.normal(160,20,10)), \n",
    "    'physics': np.around(np.random.normal(170,20,10)),\n",
    "})  \n",
    "\n",
    "print('This data shows the ZNO points between 200 entrants in Kiev') \n",
    "data"
   ]
  },
  {
   "cell_type": "code",
   "execution_count": 5,
   "metadata": {},
   "outputs": [
    {
     "data": {
      "text/html": [
       "<div>\n",
       "<style scoped>\n",
       "    .dataframe tbody tr th:only-of-type {\n",
       "        vertical-align: middle;\n",
       "    }\n",
       "\n",
       "    .dataframe tbody tr th {\n",
       "        vertical-align: top;\n",
       "    }\n",
       "\n",
       "    .dataframe thead th {\n",
       "        text-align: right;\n",
       "    }\n",
       "</style>\n",
       "<table border=\"1\" class=\"dataframe\">\n",
       "  <thead>\n",
       "    <tr style=\"text-align: right;\">\n",
       "      <th></th>\n",
       "      <th>mean</th>\n",
       "      <th>standard deviation</th>\n",
       "    </tr>\n",
       "  </thead>\n",
       "  <tbody>\n",
       "    <tr>\n",
       "      <th>Ukranian</th>\n",
       "      <td>165.7</td>\n",
       "      <td>22.145203</td>\n",
       "    </tr>\n",
       "    <tr>\n",
       "      <th>Math</th>\n",
       "      <td>168.1</td>\n",
       "      <td>24.134830</td>\n",
       "    </tr>\n",
       "    <tr>\n",
       "      <th>physics</th>\n",
       "      <td>179.5</td>\n",
       "      <td>17.738376</td>\n",
       "    </tr>\n",
       "  </tbody>\n",
       "</table>\n",
       "</div>"
      ],
      "text/plain": [
       "           mean  standard deviation\n",
       "Ukranian  165.7           22.145203\n",
       "Math      168.1           24.134830\n",
       "physics   179.5           17.738376"
      ]
     },
     "execution_count": 5,
     "metadata": {},
     "output_type": "execute_result"
    }
   ],
   "source": [
    "c_names=list(data.columns) \n",
    "first_values=np.array(data[c_names[0]]) \n",
    "second_values=np.array(data[c_names[1]]) \n",
    "third_values=np.array(data[c_names[2]])  \n",
    "\n",
    "\n",
    "n_data= pd.DataFrame({'mean' : {'Ukranian': np.mean(first_values), 'Math' :np.mean(second_values),'physics':np.mean(third_values)},\n",
    "        'standard deviation': {'Ukranian':np.std(first_values), 'Math':np.std(second_values),'physics':np.std(third_values)}, \n",
    "                     }) \n",
    "n_data\n"
   ]
  },
  {
   "cell_type": "code",
   "execution_count": 6,
   "metadata": {},
   "outputs": [
    {
     "data": {
      "image/png": "[encoded data removed]",
      "text/plain": [
       "<Figure size 432x288 with 1 Axes>"
      ]
     },
     "metadata": {
      "needs_background": "light"
     },
     "output_type": "display_data"
    }
   ],
   "source": [
    "mp.boxplot(data, vert=True,patch_artist=True);"
   ]
  },
  {
   "cell_type": "code",
   "execution_count": 7,
   "metadata": {},
   "outputs": [],
   "source": [
    "def take_column_data(data): \n",
    "    arr_with_val=[]\n",
    "    c_names=list(data.columns) \n",
    "    for val in range(len(c_names)):\n",
    "        arr_with_val.append(np.array(data[c_names[val]]))\n",
    "    return arr_with_val\n",
    "\n",
    "def get_T_range(data):\n",
    "    arr_with_val=take_column_data(data)\n",
    "    arr_with_summ=list(map(np.sum,arr_with_val))   \n",
    "    arr_with_T_summ =list(map(lambda x:x*x,arr_with_summ))\n",
    "    F_T=np.sum(arr_with_T_summ)\n",
    "    return arr_with_summ, F_T \n",
    "\n",
    "def get_n(data): \n",
    "    n=int(len(data))\n",
    "    return n \n",
    "\n",
    "def get_c():\n",
    "    c=int(len(data.columns))\n",
    "    return c\n",
    "\n",
    "def get_N():\n",
    "    n=get_n(data)\n",
    "    n_of_columns=get_c()\n",
    "    N= n*n_of_columns\n",
    "    return N\n",
    "\n",
    "def get_the_square_of_the_total(): \n",
    "    col_meanings=get_T_range(data)[0]\n",
    "    square_of_the_total=np.power(np.sum(col_meanings),2)\n",
    "    return square_of_the_total\n",
    "   \n",
    "def get_sum_squar_ind_val():\n",
    "    col_meanings=np.array(take_column_data(data)).flatten()\n",
    "    s_squar_ind_val=float(sum((list(map(lambda x:x*x,col_meanings)))))\n",
    "    return s_squar_ind_val \n",
    "    \n",
    "\n"
   ]
  },
  {
   "cell_type": "code",
   "execution_count": 8,
   "metadata": {},
   "outputs": [],
   "source": [
    "def get_SS_intra_group(): #SSфакт\n",
    "    S_F=get_T_range(data)[1]\n",
    "    n=get_n(data)\n",
    "    square_of_the_total_x=get_the_square_of_the_total()\n",
    "    N=get_N()\n",
    "    SS_fa=(S_F/n)-(square_of_the_total_x/N)\n",
    "    return SS_fa\n",
    "  \n",
    "#SS_intr_gr=get_SS_intra_group()"
   ]
  },
  {
   "cell_type": "code",
   "execution_count": 9,
   "metadata": {},
   "outputs": [],
   "source": [
    "def get_SS_total_group(): #SSзаг\n",
    "    s_sq_ind_val=get_sum_squar_ind_val() \n",
    "    square_of_the_total_x=get_the_square_of_the_total()\n",
    "    N=get_N() \n",
    "    SS_total_group=float(s_sq_ind_val - (square_of_the_total_x/N))\n",
    "    return SS_total_group\n",
    " \n",
    "#SS_total_gr=get_SS_total_group()"
   ]
  },
  {
   "cell_type": "code",
   "execution_count": 10,
   "metadata": {},
   "outputs": [
    {
     "data": {
      "text/plain": [
       "13875.5"
      ]
     },
     "execution_count": 10,
     "metadata": {},
     "output_type": "execute_result"
    }
   ],
   "source": [
    "def get_SS_accidentally():\n",
    "    SS_total_gr=get_SS_total_group() #SSзаг\n",
    "    SS_intr_gr=get_SS_intra_group() #SSфакт\n",
    "    SS_accid=SS_total_gr-SS_intr_gr\n",
    "    return SS_accid \n",
    "\n",
    "get_SS_accidentally()"
   ]
  },
  {
   "cell_type": "code",
   "execution_count": 11,
   "metadata": {},
   "outputs": [],
   "source": [
    "def get_d_fact():\n",
    "    c=get_c()\n",
    "    d_fact=int(c-1)\n",
    "    return d_fact \n",
    "    "
   ]
  },
  {
   "cell_type": "code",
   "execution_count": 12,
   "metadata": {},
   "outputs": [],
   "source": [
    "def get_d_comm():\n",
    "    N=get_N()\n",
    "    d_comm=N-1\n",
    "    return d_comm \n"
   ]
  },
  {
   "cell_type": "code",
   "execution_count": 13,
   "metadata": {},
   "outputs": [],
   "source": [
    "def get_d_accidentally():\n",
    "    d_fact=get_d_fact()\n",
    "    d_comm=get_d_comm() \n",
    "    d_acc=d_comm-d_fact\n",
    "    return d_acc \n"
   ]
  },
  {
   "cell_type": "code",
   "execution_count": 14,
   "metadata": {},
   "outputs": [],
   "source": [
    "def get_MS_SS_fact():\n",
    "    SS_fact=get_SS_intra_group()\n",
    "    d_fact=get_d_fact() \n",
    "    MS_SS_fact=SS_fact/d_fact \n",
    "    return MS_SS_fact \n"
   ]
  },
  {
   "cell_type": "code",
   "execution_count": 16,
   "metadata": {},
   "outputs": [
    {
     "name": "stdout",
     "output_type": "stream",
     "text": [
      "513.9074074074074\n"
     ]
    }
   ],
   "source": [
    "def get_MS_SS_accidentally():\n",
    "    SS_acc=get_SS_accidentally()\n",
    "    d_acc=get_d_accidentally() \n",
    "    MS_SS_acc=SS_acc/d_acc \n",
    "    return MS_SS_acc\n",
    "\n",
    "get_MS_SS_accidentally()"
   ]
  },
  {
   "cell_type": "code",
   "execution_count": 17,
   "metadata": {},
   "outputs": [
    {
     "name": "stdout",
     "output_type": "stream",
     "text": [
      "1.0577780980865101\n"
     ]
    }
   ],
   "source": [
    "def get_F_emp():\n",
    "    MS_SS_fact=get_MS_SS_fact()\n",
    "    MS_SS_acc=get_MS_SS_accidentally() \n",
    "    F_emp=(MS_SS_fact)/(MS_SS_acc)\n",
    "    return F_emp \n",
    "\n",
    "get_F_emp()\n"
   ]
  },
  {
   "cell_type": "code",
   "execution_count": 18,
   "metadata": {},
   "outputs": [
    {
     "name": "stdout",
     "output_type": "stream",
     "text": [
      "1\n"
     ]
    }
   ],
   "source": [
    "def get_F_crit(): \n",
    "    f_up=round(get_MS_SS_fact()) \n",
    "    f_down=round(get_MS_SS_accidentally()) \n",
    "    F_values=pd.read_excel(\"Таблиця критичних значень для критерію Фішера.xlsx\")   \n",
    "    if(f_up>40 and f_down>130):\n",
    "        return F_values.iloc[31,14] \n",
    "    elif(f_down>31):\n",
    "        return F_values.iloc[f_up,14] \n",
    "    elif(f_up>40): \n",
    "        return F_values.iloc[31,f_down] \n",
    "    else:\n",
    "        return F_values.iloc[f_up,f_down] \n",
    "    \n",
    "\n",
    "print(get_F_crit())"
   ]
  },
  {
   "cell_type": "code",
   "execution_count": 19,
   "metadata": {},
   "outputs": [
    {
     "name": "stdout",
     "output_type": "stream",
     "text": [
      "The averages of independent groups are not equal\n",
      "The averages of independent groups are  equal\n"
     ]
    }
   ],
   "source": [
    "def conclusion():\n",
    "    F_em=get_F_emp()\n",
    "    F_crit=get_F_crit() \n",
    "    if(F_em>F_crit):\n",
    "        print('The averages of independent groups are not equal')\n",
    "    print(\"The averages of independent groups are  equal\")\n",
    "    \n",
    "conclusion()"
   ]
  },
  {
   "cell_type": "code",
   "execution_count": 28,
   "metadata": {},
   "outputs": [
    {
     "name": "stdout",
     "output_type": "stream",
     "text": [
      "   Intragroup Variance  Groupwide Variance  Residual variance  \\\n",
      "0               1087.2             14962.7            13875.5   \n",
      "\n",
      "   The number of degrees of freedom (fact)  \\\n",
      "0                                        2   \n",
      "\n",
      "   The number of degrees of freedom (comm)  \\\n",
      "0                                       29   \n",
      "\n",
      "   The number of degrees of freedom (accident)  MS actual  MS accidentally  \\\n",
      "0                                           27      543.6       513.907407   \n",
      "\n",
      "     F empr  F tabl  \n",
      "0  1.057778       1  \n"
     ]
    }
   ],
   "source": [
    "def out():\n",
    "    counted_data = pd.DataFrame({\n",
    "        'Intragroup Variance':get_SS_intra_group(), \n",
    "        'Groupwide Variance':get_SS_total_group(), \n",
    "        \"Residual variance\":  get_SS_accidentally(), \n",
    "        \"The number of degrees of freedom (fact)\":pd.Series(get_d_fact()), \n",
    "        \"The number of degrees of freedom (comm)\":pd.Series(get_d_comm()), \n",
    "        \"The number of degrees of freedom (accident)\":pd.Series(get_d_accidentally()), \n",
    "        \"MS actual\":get_MS_SS_fact(), \n",
    "        \"MS accidentally\":get_MS_SS_accidentally(), \n",
    "        'F empr':get_F_emp(), \n",
    "        'F tabl':get_F_crit(),\n",
    "    }) \n",
    "    \n",
    "    print(counted_data)\n",
    "    \n",
    "out()"
   ]
  },
  {
   "cell_type": "code",
   "execution_count": null,
   "metadata": {},
   "outputs": [],
   "source": []
  }
 ],
 "metadata": {
  "colab": {
   "authorship_tag": "ABX9TyPz43bweI3Rw31Fk91MPGuX",
   "collapsed_sections": [],
   "name": "КП8.ipynb",
   "provenance": []
  },
  "kernelspec": {
   "display_name": "Python 3",
   "language": "python",
   "name": "python3"
  },
  "language_info": {
   "codemirror_mode": {
    "name": "ipython",
    "version": 3
   },
   "file_extension": ".py",
   "mimetype": "text/x-python",
   "name": "python",
   "nbconvert_exporter": "python",
   "pygments_lexer": "ipython3",
   "version": "3.8.2"
  }
 },
 "nbformat": 4,
 "nbformat_minor": 1
}
