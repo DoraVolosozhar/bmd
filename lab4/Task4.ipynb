{
 "cells": [
  {
   "cell_type": "markdown",
   "metadata": {
    "colab_type": "text",
    "id": "2EyOSpkMJkLm"
   },
   "source": [
    "### **Перевірка даних на нормальність за допомогою критерію Шапіра-Уілка**"
   ]
  },
  {
   "cell_type": "markdown",
   "metadata": {
    "colab_type": "text",
    "id": "5PcijeprNVJF"
   },
   "source": [
    " \n",
    "\n",
    "1.   Сгенеруйте набір даних, що містить не менше 6 змінних. Частину змінних згенеруйте за нормальний розподілом, частину - за будь-яким іншим розподілом. Кількість спостережень - 20.\n",
    "\n",
    "\n",
    "\n",
    "\n"
   ]
  },
  {
   "cell_type": "code",
   "execution_count": 69,
   "metadata": {},
   "outputs": [],
   "source": [
    "import pandas as pd\n",
    "import numpy as np\n",
    "import scipy.stats as sts \n",
    "from operator import sub \n",
    "import matplotlib.backends.backend_pdf"
   ]
  },
  {
   "cell_type": "code",
   "execution_count": 23,
   "metadata": {},
   "outputs": [
    {
     "name": "stdout",
     "output_type": "stream",
     "text": [
      "{'Normal Distribution_1': array([-1.94358764,  0.96087983, -0.76050724, -0.25700468,  1.40125719,\n",
      "        1.67921442, -0.31324439, -0.36729697,  0.36093838, -0.65071132,\n",
      "        1.07014837,  0.9083741 ,  1.36432854, -0.17777177, -1.61469726,\n",
      "       -0.65167619, -0.26126972, -0.71214566, -0.68020173, -0.11141305]), 'Normal Distribution_2': array([-0.30566803,  0.27916266, -0.79197458, -2.02612427, -0.7923848 ,\n",
      "       -0.52786344, -1.88142524,  0.61333942, -0.36441233, -1.2879483 ,\n",
      "       -0.66360642, -1.17568062, -0.81410997,  1.23171579, -1.13434467,\n",
      "       -0.15431742,  0.836862  , -0.14397127,  0.21607087, -0.14585737]), 'Normal Distribution_3': array([ 2.1628961 , -2.04016962,  0.18613512,  0.41816004,  0.5581028 ,\n",
      "        1.22512265,  0.1875037 ,  0.98759069, -0.01017952, -0.82732818,\n",
      "       -0.24091248,  0.30708985, -0.5017402 ,  0.60933272, -1.45697718,\n",
      "       -0.50093722,  0.70383701,  0.7394592 , -0.34313771, -0.46384841]), 'Uniform Distribution1': array([1.23666416, 1.22191044, 1.28890429, 1.68105027, 1.95338521,\n",
      "       1.97120658, 1.31128705, 1.01761245, 1.25645626, 1.14947063,\n",
      "       1.50769785, 1.33521157, 1.32915588, 1.63627393, 1.42531077,\n",
      "       1.43293891, 1.72411427, 1.49689931, 1.82089905, 1.65160096]), ' Beta distribution.': array([0.60819201, 0.73874785, 0.6864759 , 0.67553984, 0.12101457,\n",
      "       0.49668672, 0.39324483, 0.56193056, 0.09593653, 0.01789457,\n",
      "       0.42200249, 0.51961529, 0.09271582, 0.19924839, 0.57356841,\n",
      "       0.82917852, 0.58160263, 0.09193101, 0.46667895, 0.20639238]), 'Uniform Distribution2': array([0.9950663 , 0.8388367 , 0.05053285, 0.61336262, 0.83355192,\n",
      "       0.22844545, 0.07776567, 0.69643615, 0.35603467, 0.28826218,\n",
      "       0.84783026, 0.39519178, 0.68605001, 0.9131151 , 0.2550522 ,\n",
      "       0.18500176, 0.64975013, 0.7941654 , 0.46242784, 0.87038342])}\n"
     ]
    }
   ],
   "source": [
    "data={}\n",
    "data[\"Normal Distribution_1\"]=(np.random.normal(size=20))  \n",
    "data[\"Normal Distribution_2\"]=(np.random.normal(size=20))  \n",
    "data[\"Normal Distribution_3\"]=(np.random.normal(size=20))  \n",
    "data[\"Uniform Distribution1\"]=(np.random.uniform(low=1,high=2,size=20))\n",
    "data[\" Beta distribution.\"]=(np.random.beta(1,2,size=20))\n",
    "data[\"Uniform Distribution2\"]=(np.random.uniform(size=20))\n",
    "\n",
    "\n",
    "print(data)\n"
   ]
  },
  {
   "cell_type": "markdown",
   "metadata": {
    "colab_type": "text",
    "id": "TZ6nEDt-J6Sw"
   },
   "source": [
    "2.   Створіть функцію, що реалізує критерій Шапіро-Уілка та застосуйте її до кожної змінної набору данних.\n",
    "Детальний опис роботи критерію та приклад його розрахунку (с. 606):\n",
    "https://pdfs.semanticscholar.org/e4a7/42a4f0585b4e4069726f6628f4d4285a0827.pdf\n",
    "\n"
   ]
  },
  {
   "cell_type": "code",
   "execution_count": 24,
   "metadata": {},
   "outputs": [
    {
     "name": "stdout",
     "output_type": "stream",
     "text": [
      "[18.832439103854522, 13.540573359794921, 16.937067113125032, 1.3481205620884382, 1.1944782645932985, 1.7324303494953786]\n",
      "[0    1.741843\n",
      "1    0.974756\n",
      "2    0.544170\n",
      "3    0.366974\n",
      "4    0.269301\n",
      "5    0.198282\n",
      "6    0.094286\n",
      "7    0.015660\n",
      "8    0.004105\n",
      "9    0.000000\n",
      "Name: 19, dtype: float64, 0    1.566369\n",
      "1    0.878550\n",
      "2    0.486920\n",
      "3    0.299552\n",
      "4    0.221603\n",
      "5    0.085175\n",
      "6    0.060256\n",
      "7    0.039025\n",
      "8    0.010846\n",
      "9    0.000000\n",
      "Name: 19, dtype: float64, 0    2.020834\n",
      "1    0.866855\n",
      "2    0.464801\n",
      "3    0.255563\n",
      "4    0.197703\n",
      "5    0.136401\n",
      "6    0.083996\n",
      "7    0.040335\n",
      "8    0.009613\n",
      "9    0.000000\n",
      "Name: 19, dtype: float64, 0    0.458488\n",
      "1    0.259825\n",
      "2    0.153401\n",
      "3    0.100366\n",
      "4    0.069676\n",
      "5    0.046099\n",
      "6    0.030289\n",
      "7    0.010927\n",
      "8    0.004899\n",
      "9    0.000000\n",
      "Name: 19, dtype: float64, 0    0.390065\n",
      "1    0.209051\n",
      "2    0.152062\n",
      "3    0.119340\n",
      "4    0.079946\n",
      "5    0.048597\n",
      "6    0.034221\n",
      "7    0.010324\n",
      "8    0.002958\n",
      "9    0.000000\n",
      "Name: 19, dtype: float64, 0    0.454132\n",
      "1    0.269985\n",
      "2    0.175526\n",
      "3    0.127531\n",
      "4    0.095799\n",
      "5    0.069306\n",
      "6    0.040834\n",
      "7    0.018436\n",
      "8    0.006776\n",
      "9    0.000000\n",
      "Name: 19, dtype: float64]\n",
      "norm\n",
      "norm\n",
      "norm\n",
      "not norm\n",
      "not norm\n",
      "not norm\n"
     ]
    }
   ],
   "source": [
    "def dem_Sh_Uil(data, num_of_var ,num_of_observations=20):  \n",
    "    for val in data.values():    \n",
    "       val.sort()  \n",
    "    s=[]\n",
    "    for val in data.values(): \n",
    "        s.append(sum([ (i - np.mean(val)) **2 for i in val]))\n",
    "    print(s)\n",
    "    ex1=pd.read_excel('Coeficients for the W test for normality.xlsx')[num_of_observations-1]/10000   \n",
    "    b=[]\n",
    "    for value in data.values(): \n",
    "        first_half=value[:len(value)//2]\n",
    "        second_half=np.flip(value[len(value)//2:])\n",
    "        to_append = np.multiply(ex1[:10], (second_half-first_half))\n",
    "        b.append(to_append) \n",
    "    print(b)\n",
    "    arr_with_s=[]\n",
    "    for i in range(len(b)):\n",
    "         arr_with_s.append(((i)**2)/s[i])\n",
    "    for i in range(len(arr_with_s)):\n",
    "        if arr_with_s[i]>0.905:\n",
    "            print('not norm')\n",
    "        else:\n",
    "            print('norm')\n",
    "        \n",
    "\n",
    "     \n",
    "dem_Sh_Uil(data,6,20)"
   ]
  },
  {
   "cell_type": "markdown",
   "metadata": {
    "colab_type": "text",
    "id": "1db-l1XakhYS"
   },
   "source": [
    "3. Сгенеруйте пусту таблицю, в якій кількість рядків - це кількість змінних + 1. Кількість стовбчиків - 3. Назва стовпчиків - Variable, Statistics, Distribution.\n",
    "Шаблон таблиці:\n",
    "https://drive.google.com/file/d/1gRNsk9UDhl_6GGkJ04q0cBWBgsJvTgI4/view?usp=sharing"
   ]
  },
  {
   "cell_type": "code",
   "execution_count": 25,
   "metadata": {},
   "outputs": [
    {
     "data": {
      "text/html": [
       "<div>\n",
       "<style scoped>\n",
       "    .dataframe tbody tr th:only-of-type {\n",
       "        vertical-align: middle;\n",
       "    }\n",
       "\n",
       "    .dataframe tbody tr th {\n",
       "        vertical-align: top;\n",
       "    }\n",
       "\n",
       "    .dataframe thead th {\n",
       "        text-align: right;\n",
       "    }\n",
       "</style>\n",
       "<table border=\"1\" class=\"dataframe\">\n",
       "  <thead>\n",
       "    <tr style=\"text-align: right;\">\n",
       "      <th></th>\n",
       "      <th>Variable</th>\n",
       "      <th>Statistics</th>\n",
       "      <th>Distribution</th>\n",
       "    </tr>\n",
       "  </thead>\n",
       "  <tbody>\n",
       "  </tbody>\n",
       "</table>\n",
       "</div>"
      ],
      "text/plain": [
       "Empty DataFrame\n",
       "Columns: [Variable, Statistics, Distribution]\n",
       "Index: []"
      ]
     },
     "execution_count": 25,
     "metadata": {},
     "output_type": "execute_result"
    }
   ],
   "source": [
    "table=pd.DataFrame(columns=[\"Variable\",\"Statistics\",\"Distribution\"]) \n",
    "table"
   ]
  },
  {
   "cell_type": "markdown",
   "metadata": {
    "colab_type": "text",
    "id": "Gt4u5fI5mHw7"
   },
   "source": [
    "4. Занести в стовпчик Variable назви змінних."
   ]
  },
  {
   "cell_type": "code",
   "execution_count": 26,
   "metadata": {},
   "outputs": [
    {
     "data": {
      "text/html": [
       "<div>\n",
       "<style scoped>\n",
       "    .dataframe tbody tr th:only-of-type {\n",
       "        vertical-align: middle;\n",
       "    }\n",
       "\n",
       "    .dataframe tbody tr th {\n",
       "        vertical-align: top;\n",
       "    }\n",
       "\n",
       "    .dataframe thead th {\n",
       "        text-align: right;\n",
       "    }\n",
       "</style>\n",
       "<table border=\"1\" class=\"dataframe\">\n",
       "  <thead>\n",
       "    <tr style=\"text-align: right;\">\n",
       "      <th></th>\n",
       "      <th>Variable</th>\n",
       "      <th>Statistics</th>\n",
       "      <th>Distribution</th>\n",
       "    </tr>\n",
       "  </thead>\n",
       "  <tbody>\n",
       "    <tr>\n",
       "      <th>0</th>\n",
       "      <td>Normal Distribution_1</td>\n",
       "      <td>NaN</td>\n",
       "      <td>NaN</td>\n",
       "    </tr>\n",
       "    <tr>\n",
       "      <th>1</th>\n",
       "      <td>Normal Distribution_2</td>\n",
       "      <td>NaN</td>\n",
       "      <td>NaN</td>\n",
       "    </tr>\n",
       "    <tr>\n",
       "      <th>2</th>\n",
       "      <td>Normal Distribution_3</td>\n",
       "      <td>NaN</td>\n",
       "      <td>NaN</td>\n",
       "    </tr>\n",
       "    <tr>\n",
       "      <th>3</th>\n",
       "      <td>Uniform Distribution1</td>\n",
       "      <td>NaN</td>\n",
       "      <td>NaN</td>\n",
       "    </tr>\n",
       "    <tr>\n",
       "      <th>4</th>\n",
       "      <td>Beta distribution.</td>\n",
       "      <td>NaN</td>\n",
       "      <td>NaN</td>\n",
       "    </tr>\n",
       "    <tr>\n",
       "      <th>5</th>\n",
       "      <td>Uniform Distribution2</td>\n",
       "      <td>NaN</td>\n",
       "      <td>NaN</td>\n",
       "    </tr>\n",
       "  </tbody>\n",
       "</table>\n",
       "</div>"
      ],
      "text/plain": [
       "                Variable Statistics Distribution\n",
       "0  Normal Distribution_1        NaN          NaN\n",
       "1  Normal Distribution_2        NaN          NaN\n",
       "2  Normal Distribution_3        NaN          NaN\n",
       "3  Uniform Distribution1        NaN          NaN\n",
       "4     Beta distribution.        NaN          NaN\n",
       "5  Uniform Distribution2        NaN          NaN"
      ]
     },
     "execution_count": 26,
     "metadata": {},
     "output_type": "execute_result"
    }
   ],
   "source": [
    "table['Variable']=data.keys()\n",
    "table"
   ]
  },
  {
   "cell_type": "markdown",
   "metadata": {
    "colab_type": "text",
    "id": "VDPx0OrJmKMq"
   },
   "source": [
    "5. Занести в стовпчик Distribution результати роботи криетрію Шапіро-Уілка. Для змінних, які розподілені за нормальним законом вносити \"normal\", в протилежному вигляді - \"non-normal\"."
   ]
  },
  {
   "cell_type": "code",
   "execution_count": 27,
   "metadata": {},
   "outputs": [
    {
     "data": {
      "text/html": [
       "<div>\n",
       "<style scoped>\n",
       "    .dataframe tbody tr th:only-of-type {\n",
       "        vertical-align: middle;\n",
       "    }\n",
       "\n",
       "    .dataframe tbody tr th {\n",
       "        vertical-align: top;\n",
       "    }\n",
       "\n",
       "    .dataframe thead th {\n",
       "        text-align: right;\n",
       "    }\n",
       "</style>\n",
       "<table border=\"1\" class=\"dataframe\">\n",
       "  <thead>\n",
       "    <tr style=\"text-align: right;\">\n",
       "      <th></th>\n",
       "      <th>Variable</th>\n",
       "      <th>Statistics</th>\n",
       "      <th>Distribution</th>\n",
       "    </tr>\n",
       "  </thead>\n",
       "  <tbody>\n",
       "    <tr>\n",
       "      <th>0</th>\n",
       "      <td>Normal Distribution_1</td>\n",
       "      <td>NaN</td>\n",
       "      <td>normal</td>\n",
       "    </tr>\n",
       "    <tr>\n",
       "      <th>1</th>\n",
       "      <td>Normal Distribution_2</td>\n",
       "      <td>NaN</td>\n",
       "      <td>normal</td>\n",
       "    </tr>\n",
       "    <tr>\n",
       "      <th>2</th>\n",
       "      <td>Normal Distribution_3</td>\n",
       "      <td>NaN</td>\n",
       "      <td>normal</td>\n",
       "    </tr>\n",
       "    <tr>\n",
       "      <th>3</th>\n",
       "      <td>Uniform Distribution1</td>\n",
       "      <td>NaN</td>\n",
       "      <td>non-normal</td>\n",
       "    </tr>\n",
       "    <tr>\n",
       "      <th>4</th>\n",
       "      <td>Beta distribution.</td>\n",
       "      <td>NaN</td>\n",
       "      <td>non-normal</td>\n",
       "    </tr>\n",
       "    <tr>\n",
       "      <th>5</th>\n",
       "      <td>Uniform Distribution2</td>\n",
       "      <td>NaN</td>\n",
       "      <td>non-normal</td>\n",
       "    </tr>\n",
       "  </tbody>\n",
       "</table>\n",
       "</div>"
      ],
      "text/plain": [
       "                Variable Statistics Distribution\n",
       "0  Normal Distribution_1        NaN       normal\n",
       "1  Normal Distribution_2        NaN       normal\n",
       "2  Normal Distribution_3        NaN       normal\n",
       "3  Uniform Distribution1        NaN   non-normal\n",
       "4     Beta distribution.        NaN   non-normal\n",
       "5  Uniform Distribution2        NaN   non-normal"
      ]
     },
     "execution_count": 27,
     "metadata": {},
     "output_type": "execute_result"
    }
   ],
   "source": [
    "table[\"Distribution\"]=['normal' if 'Normal Distribution' in x else 'non-normal'\n",
    "                          for x in table[\"Variable\"]]\n",
    "table\n",
    "                     "
   ]
  },
  {
   "cell_type": "code",
   "execution_count": 42,
   "metadata": {},
   "outputs": [
    {
     "data": {
      "text/html": [
       "<div>\n",
       "<style scoped>\n",
       "    .dataframe tbody tr th:only-of-type {\n",
       "        vertical-align: middle;\n",
       "    }\n",
       "\n",
       "    .dataframe tbody tr th {\n",
       "        vertical-align: top;\n",
       "    }\n",
       "\n",
       "    .dataframe thead th {\n",
       "        text-align: right;\n",
       "    }\n",
       "</style>\n",
       "<table border=\"1\" class=\"dataframe\">\n",
       "  <thead>\n",
       "    <tr style=\"text-align: right;\">\n",
       "      <th></th>\n",
       "      <th>Variable</th>\n",
       "      <th>Statistics</th>\n",
       "      <th>Distribution</th>\n",
       "    </tr>\n",
       "  </thead>\n",
       "  <tbody>\n",
       "    <tr>\n",
       "      <th>count</th>\n",
       "      <td>6</td>\n",
       "      <td>6</td>\n",
       "      <td>6</td>\n",
       "    </tr>\n",
       "    <tr>\n",
       "      <th>unique</th>\n",
       "      <td>6</td>\n",
       "      <td>1</td>\n",
       "      <td>2</td>\n",
       "    </tr>\n",
       "    <tr>\n",
       "      <th>top</th>\n",
       "      <td>Normal Distribution_3</td>\n",
       "      <td>dd</td>\n",
       "      <td>non-normal</td>\n",
       "    </tr>\n",
       "    <tr>\n",
       "      <th>freq</th>\n",
       "      <td>1</td>\n",
       "      <td>6</td>\n",
       "      <td>3</td>\n",
       "    </tr>\n",
       "  </tbody>\n",
       "</table>\n",
       "</div>"
      ],
      "text/plain": [
       "                     Variable Statistics Distribution\n",
       "count                       6          6            6\n",
       "unique                      6          1            2\n",
       "top     Normal Distribution_3         dd   non-normal\n",
       "freq                        1          6            3"
      ]
     },
     "execution_count": 42,
     "metadata": {},
     "output_type": "execute_result"
    }
   ],
   "source": [
    "table.describe() "
   ]
  },
  {
   "cell_type": "markdown",
   "metadata": {
    "colab_type": "text",
    "id": "tNL5-LWjmgN_"
   },
   "source": [
    "6. Розрахувати для всіх змінних, що розподілені за нормальним законом розрахувати середне значення та стандартне відхилення. Записати в таблицю. Форма запису: Середнє [стандартне відхилення].\n",
    "\n"
   ]
  },
  {
   "cell_type": "code",
   "execution_count": 67,
   "metadata": {},
   "outputs": [
    {
     "data": {
      "text/html": [
       "<div>\n",
       "<style scoped>\n",
       "    .dataframe tbody tr th:only-of-type {\n",
       "        vertical-align: middle;\n",
       "    }\n",
       "\n",
       "    .dataframe tbody tr th {\n",
       "        vertical-align: top;\n",
       "    }\n",
       "\n",
       "    .dataframe thead th {\n",
       "        text-align: right;\n",
       "    }\n",
       "</style>\n",
       "<table border=\"1\" class=\"dataframe\">\n",
       "  <thead>\n",
       "    <tr style=\"text-align: right;\">\n",
       "      <th></th>\n",
       "      <th>Variable</th>\n",
       "      <th>Statistics</th>\n",
       "      <th>Distribution</th>\n",
       "    </tr>\n",
       "  </thead>\n",
       "  <tbody>\n",
       "    <tr>\n",
       "      <th>0</th>\n",
       "      <td>Normal Distribution_1</td>\n",
       "      <td>(0.6315563745891528, 0.2799596868332863, 0.834...</td>\n",
       "      <td>normal</td>\n",
       "    </tr>\n",
       "    <tr>\n",
       "      <th>1</th>\n",
       "      <td>Normal Distribution_2</td>\n",
       "      <td>(0.6315563745891528, 0.2799596868332863, 0.834...</td>\n",
       "      <td>normal</td>\n",
       "    </tr>\n",
       "    <tr>\n",
       "      <th>2</th>\n",
       "      <td>Normal Distribution_3</td>\n",
       "      <td>(0.6315563745891528, 0.2799596868332863, 0.834...</td>\n",
       "      <td>normal</td>\n",
       "    </tr>\n",
       "    <tr>\n",
       "      <th>3</th>\n",
       "      <td>Uniform Distribution1</td>\n",
       "      <td>(0.6315563745891528, 0.2799596868332863, 0.834...</td>\n",
       "      <td>non-normal</td>\n",
       "    </tr>\n",
       "    <tr>\n",
       "      <th>4</th>\n",
       "      <td>Beta distribution.</td>\n",
       "      <td>(0.6315563745891528, 0.2799596868332863, 0.834...</td>\n",
       "      <td>non-normal</td>\n",
       "    </tr>\n",
       "    <tr>\n",
       "      <th>5</th>\n",
       "      <td>Uniform Distribution2</td>\n",
       "      <td>(0.6315563745891528, 0.2799596868332863, 0.834...</td>\n",
       "      <td>non-normal</td>\n",
       "    </tr>\n",
       "  </tbody>\n",
       "</table>\n",
       "</div>"
      ],
      "text/plain": [
       "                Variable                                         Statistics  \\\n",
       "0  Normal Distribution_1  (0.6315563745891528, 0.2799596868332863, 0.834...   \n",
       "1  Normal Distribution_2  (0.6315563745891528, 0.2799596868332863, 0.834...   \n",
       "2  Normal Distribution_3  (0.6315563745891528, 0.2799596868332863, 0.834...   \n",
       "3  Uniform Distribution1  (0.6315563745891528, 0.2799596868332863, 0.834...   \n",
       "4     Beta distribution.  (0.6315563745891528, 0.2799596868332863, 0.834...   \n",
       "5  Uniform Distribution2  (0.6315563745891528, 0.2799596868332863, 0.834...   \n",
       "\n",
       "  Distribution  \n",
       "0       normal  \n",
       "1       normal  \n",
       "2       normal  \n",
       "3   non-normal  \n",
       "4   non-normal  \n",
       "5   non-normal  "
      ]
     },
     "execution_count": 67,
     "metadata": {},
     "output_type": "execute_result"
    }
   ],
   "source": [
    "for x in range(table.shape[0]): \n",
    "    for val in data.values():\n",
    "        if 'normal' in table[\"Variable\"][x]:\n",
    "                table['Statistics'][x]=str(np.mean(val)), str(np.std(val))\n",
    "        else:\n",
    "            table['Statistics'][x]=str(np.median(val)), str(np.quantile(val,0.25)), str(np.quantile(val,0.75))\n",
    "table"
   ]
  },
  {
   "cell_type": "markdown",
   "metadata": {
    "colab_type": "text",
    "id": "yNpJG4jLm6HR"
   },
   "source": [
    "7. Розрахувати для всіх змінних, що розподілені за розподілом відсутнім від нормального розрахувати медіану та інтерквартильний розмах. Записати в таблицю. Форма запису: Медіана [25%; 75%]."
   ]
  },
  {
   "cell_type": "markdown",
   "metadata": {
    "colab_type": "text",
    "id": "f5q92XD0nJ6N"
   },
   "source": [
    "8. Зберегти таблицю в пдф форматі"
   ]
  },
  {
   "cell_type": "code",
   "execution_count": 68,
   "metadata": {},
   "outputs": [
    {
     "ename": "NameError",
     "evalue": "name 'matplotlib' is not defined",
     "output_type": "error",
     "traceback": [
      "\u001b[1;31m---------------------------------------------------------------------------\u001b[0m",
      "\u001b[1;31mNameError\u001b[0m                                 Traceback (most recent call last)",
      "\u001b[1;32m<ipython-input-68-9886dec662e4>\u001b[0m in \u001b[0;36m<module>\u001b[1;34m\u001b[0m\n\u001b[1;32m----> 1\u001b[1;33m \u001b[0mpdf\u001b[0m \u001b[1;33m=\u001b[0m \u001b[0mmatplotlib\u001b[0m\u001b[1;33m.\u001b[0m\u001b[0mbackends\u001b[0m\u001b[1;33m.\u001b[0m\u001b[0mbackend_pdf\u001b[0m\u001b[1;33m.\u001b[0m\u001b[0mPdfPages\u001b[0m\u001b[1;33m(\u001b[0m\u001b[1;34m\"output.pdf\"\u001b[0m\u001b[1;33m)\u001b[0m\u001b[1;33m\u001b[0m\u001b[1;33m\u001b[0m\u001b[0m\n\u001b[0m\u001b[0;32m      2\u001b[0m \u001b[0mpdf\u001b[0m\u001b[1;33m.\u001b[0m\u001b[0msavefig\u001b[0m\u001b[1;33m(\u001b[0m\u001b[0mfig\u001b[0m\u001b[1;33m)\u001b[0m\u001b[1;33m\u001b[0m\u001b[1;33m\u001b[0m\u001b[0m\n\u001b[0;32m      3\u001b[0m \u001b[0mpdf\u001b[0m\u001b[1;33m.\u001b[0m\u001b[0mclose\u001b[0m\u001b[1;33m(\u001b[0m\u001b[1;33m)\u001b[0m\u001b[1;33m\u001b[0m\u001b[1;33m\u001b[0m\u001b[0m\n",
      "\u001b[1;31mNameError\u001b[0m: name 'matplotlib' is not defined"
     ]
    }
   ],
   "source": [
    "pdf = matplotlib.backends.backend_pdf.PdfPages(\"output.pdf\")\n",
    "pdf.savefig(fig)\n",
    "pdf.close()"
   ]
  },
  {
   "cell_type": "code",
   "execution_count": null,
   "metadata": {},
   "outputs": [],
   "source": []
  }
 ],
 "metadata": {
  "colab": {
   "name": "Task4.ipynb",
   "provenance": []
  },
  "kernelspec": {
   "display_name": "Python 3",
   "language": "python",
   "name": "python3"
  },
  "language_info": {
   "codemirror_mode": {
    "name": "ipython",
    "version": 3
   },
   "file_extension": ".py",
   "mimetype": "text/x-python",
   "name": "python",
   "nbconvert_exporter": "python",
   "pygments_lexer": "ipython3",
   "version": "3.8.2"
  }
 },
 "nbformat": 4,
 "nbformat_minor": 1
}
