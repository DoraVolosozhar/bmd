{
 "cells": [
  {
   "cell_type": "markdown",
   "metadata": {
    "colab_type": "text",
    "id": "2EyOSpkMJkLm"
   },
   "source": [
    "### **Перевірка даних на нормальність за допомогою критерію Шапіра-Уілка**"
   ]
  },
  {
   "cell_type": "markdown",
   "metadata": {
    "colab_type": "text",
    "id": "5PcijeprNVJF"
   },
   "source": [
    " \n",
    "\n",
    "1.   Сгенеруйте набір даних, що містить не менше 6 змінних. Частину змінних згенеруйте за нормальний розподілом, частину - за будь-яким іншим розподілом. Кількість спостережень - 20.\n",
    "\n",
    "\n",
    "\n",
    "\n"
   ]
  },
  {
   "cell_type": "code",
   "execution_count": 31,
   "metadata": {},
   "outputs": [],
   "source": [
    "import pandas as pd\n",
    "import numpy as np\n",
    "from matplotlib.backends.backend_pdf import PdfPages \n",
    "import matplotlib.pyplot as plt"
   ]
  },
  {
   "cell_type": "code",
   "execution_count": 17,
   "metadata": {},
   "outputs": [
    {
     "name": "stdout",
     "output_type": "stream",
     "text": [
      "{'Normal Distribution_1': array([-1.20485232,  0.27566639,  1.05176992,  0.0567444 , -0.68817416,\n",
      "        0.29784024,  1.03823781,  1.17372132, -1.11310898,  2.45022324,\n",
      "       -1.29021677,  0.01460421, -1.46624238,  1.17683229,  2.1157289 ,\n",
      "       -2.6751997 ,  1.02536377,  1.57636914,  0.31268799,  1.47096704]), 'Normal Distribution_2': array([ 0.3691439 , -0.15855999,  0.81451238,  0.92127032,  0.23558016,\n",
      "        1.10309404,  1.12114102,  0.51936593,  1.09920378,  0.32091581,\n",
      "       -0.66619161, -0.53874962, -0.4027792 , -0.43042342, -1.48173241,\n",
      "        0.87863043,  0.6554988 , -1.2867705 , -0.4095143 , -0.53396137]), 'Normal Distribution_3': array([ 0.11915001, -0.35528411,  0.49556524, -0.51712802,  1.44195652,\n",
      "        1.54812188,  0.06018404, -1.04472934, -0.10991391,  1.38701506,\n",
      "       -0.13774525,  0.71527814, -1.65481359,  1.34519397, -0.43467787,\n",
      "       -0.07522732, -0.58489987, -0.07998646,  1.14351426,  0.57738311]), 'Uniform Distribution1': array([1.63178303, 1.1663346 , 1.34029962, 1.11196548, 1.75511946,\n",
      "       1.2894772 , 1.32481198, 1.09585546, 1.89971774, 1.57447615,\n",
      "       1.13182153, 1.73409821, 1.78837023, 1.3328981 , 1.61363935,\n",
      "       1.26094793, 1.99003542, 1.83661256, 1.26322022, 1.23950332]), ' Beta distribution.': array([3.49357371e-01, 9.44510598e-02, 7.81444393e-01, 3.15676320e-01,\n",
      "       3.79752444e-01, 6.05229589e-01, 6.79538257e-01, 5.11071547e-01,\n",
      "       8.03501302e-01, 2.25086812e-01, 4.15715747e-01, 1.87412250e-04,\n",
      "       4.93577560e-01, 8.83796856e-01, 3.32644027e-01, 5.88476067e-02,\n",
      "       4.62737352e-01, 3.18409340e-01, 4.75918787e-01, 9.24768127e-02]), 'Uniform Distribution2': array([0.05660961, 0.95023847, 0.90276913, 0.70440018, 0.98939099,\n",
      "       0.14711226, 0.64864492, 0.03056143, 0.84689825, 0.51345924,\n",
      "       0.3897506 , 0.62823441, 0.46354325, 0.10130672, 0.38881996,\n",
      "       0.1246088 , 0.75188634, 0.51194564, 0.16535276, 0.55828971])}\n"
     ]
    }
   ],
   "source": [
    "data={}\n",
    "data[\"Normal Distribution_1\"]=(np.random.normal(size=20))  \n",
    "data[\"Normal Distribution_2\"]=(np.random.normal(size=20))  \n",
    "data[\"Normal Distribution_3\"]=(np.random.normal(size=20))  \n",
    "data[\"Uniform Distribution1\"]=(np.random.uniform(low=1,high=2,size=20))\n",
    "data[\" Beta distribution.\"]=(np.random.beta(1,2,size=20))\n",
    "data[\"Uniform Distribution2\"]=(np.random.uniform(size=20))\n",
    "\n",
    "\n",
    "print(data)\n"
   ]
  },
  {
   "cell_type": "markdown",
   "metadata": {
    "colab_type": "text",
    "id": "TZ6nEDt-J6Sw"
   },
   "source": [
    "2.   Створіть функцію, що реалізує критерій Шапіро-Уілка та застосуйте її до кожної змінної набору данних.\n",
    "Детальний опис роботи критерію та приклад його розрахунку (с. 606):\n",
    "https://pdfs.semanticscholar.org/e4a7/42a4f0585b4e4069726f6628f4d4285a0827.pdf\n",
    "\n"
   ]
  },
  {
   "cell_type": "code",
   "execution_count": 24,
   "metadata": {},
   "outputs": [
    {
     "name": "stdout",
     "output_type": "stream",
     "text": [
      "[33.96064354945808, 12.144404748525607, 14.686100975091067, 1.603229448849273, 1.205809156843205, 1.8506766862936634]\n",
      "norm\n",
      "norm\n",
      "norm\n",
      "not norm\n",
      "not norm\n",
      "not norm\n"
     ]
    }
   ],
   "source": [
    "def dem_Sh_Uil(data, num_of_var ,num_of_observations=20):  \n",
    "    for val in data.values():    \n",
    "       val.sort()  \n",
    "    s=[]\n",
    "    for val in data.values(): \n",
    "        s.append(sum([ (i - np.mean(val)) **2 for i in val]))\n",
    "    print(s)\n",
    "    ex1=pd.read_excel('Coeficients for the W test for normality.xlsx')[num_of_observations-1]/10000   \n",
    "    b=[]\n",
    "    for value in data.values(): \n",
    "        first_half=value[:len(value)//2]\n",
    "        second_half=np.flip(value[len(value)//2:])\n",
    "        to_append = np.multiply(ex1[:10], (second_half-first_half))\n",
    "        b.append(to_append) \n",
    "    arr_with_s=[]\n",
    "    for i in range(len(b)):\n",
    "         arr_with_s.append(((i)**2)/s[i])\n",
    "    for i in range(len(arr_with_s)):\n",
    "        if arr_with_s[i]>0.905:\n",
    "            print('not norm')\n",
    "        else:\n",
    "            print('norm')\n",
    "        \n",
    "\n",
    "     \n",
    "dem_Sh_Uil(data,6,20)"
   ]
  },
  {
   "cell_type": "markdown",
   "metadata": {
    "colab_type": "text",
    "id": "1db-l1XakhYS"
   },
   "source": [
    "3. Сгенеруйте пусту таблицю, в якій кількість рядків - це кількість змінних + 1. Кількість стовбчиків - 3. Назва стовпчиків - Variable, Statistics, Distribution.\n",
    "Шаблон таблиці:\n",
    "https://drive.google.com/file/d/1gRNsk9UDhl_6GGkJ04q0cBWBgsJvTgI4/view?usp=sharing"
   ]
  },
  {
   "cell_type": "code",
   "execution_count": 19,
   "metadata": {},
   "outputs": [
    {
     "data": {
      "text/html": [
       "<div>\n",
       "<style scoped>\n",
       "    .dataframe tbody tr th:only-of-type {\n",
       "        vertical-align: middle;\n",
       "    }\n",
       "\n",
       "    .dataframe tbody tr th {\n",
       "        vertical-align: top;\n",
       "    }\n",
       "\n",
       "    .dataframe thead th {\n",
       "        text-align: right;\n",
       "    }\n",
       "</style>\n",
       "<table border=\"1\" class=\"dataframe\">\n",
       "  <thead>\n",
       "    <tr style=\"text-align: right;\">\n",
       "      <th></th>\n",
       "      <th>Variable</th>\n",
       "      <th>Statistics</th>\n",
       "      <th>Distribution</th>\n",
       "    </tr>\n",
       "  </thead>\n",
       "  <tbody>\n",
       "  </tbody>\n",
       "</table>\n",
       "</div>"
      ],
      "text/plain": [
       "Empty DataFrame\n",
       "Columns: [Variable, Statistics, Distribution]\n",
       "Index: []"
      ]
     },
     "execution_count": 19,
     "metadata": {},
     "output_type": "execute_result"
    }
   ],
   "source": [
    "table=pd.DataFrame(columns=[\"Variable\",\"Statistics\",\"Distribution\"]) \n",
    "table"
   ]
  },
  {
   "cell_type": "markdown",
   "metadata": {
    "colab_type": "text",
    "id": "Gt4u5fI5mHw7"
   },
   "source": [
    "4. Занести в стовпчик Variable назви змінних."
   ]
  },
  {
   "cell_type": "code",
   "execution_count": 20,
   "metadata": {},
   "outputs": [
    {
     "data": {
      "text/html": [
       "<div>\n",
       "<style scoped>\n",
       "    .dataframe tbody tr th:only-of-type {\n",
       "        vertical-align: middle;\n",
       "    }\n",
       "\n",
       "    .dataframe tbody tr th {\n",
       "        vertical-align: top;\n",
       "    }\n",
       "\n",
       "    .dataframe thead th {\n",
       "        text-align: right;\n",
       "    }\n",
       "</style>\n",
       "<table border=\"1\" class=\"dataframe\">\n",
       "  <thead>\n",
       "    <tr style=\"text-align: right;\">\n",
       "      <th></th>\n",
       "      <th>Variable</th>\n",
       "      <th>Statistics</th>\n",
       "      <th>Distribution</th>\n",
       "    </tr>\n",
       "  </thead>\n",
       "  <tbody>\n",
       "    <tr>\n",
       "      <th>0</th>\n",
       "      <td>Normal Distribution_1</td>\n",
       "      <td>NaN</td>\n",
       "      <td>NaN</td>\n",
       "    </tr>\n",
       "    <tr>\n",
       "      <th>1</th>\n",
       "      <td>Normal Distribution_2</td>\n",
       "      <td>NaN</td>\n",
       "      <td>NaN</td>\n",
       "    </tr>\n",
       "    <tr>\n",
       "      <th>2</th>\n",
       "      <td>Normal Distribution_3</td>\n",
       "      <td>NaN</td>\n",
       "      <td>NaN</td>\n",
       "    </tr>\n",
       "    <tr>\n",
       "      <th>3</th>\n",
       "      <td>Uniform Distribution1</td>\n",
       "      <td>NaN</td>\n",
       "      <td>NaN</td>\n",
       "    </tr>\n",
       "    <tr>\n",
       "      <th>4</th>\n",
       "      <td>Beta distribution.</td>\n",
       "      <td>NaN</td>\n",
       "      <td>NaN</td>\n",
       "    </tr>\n",
       "    <tr>\n",
       "      <th>5</th>\n",
       "      <td>Uniform Distribution2</td>\n",
       "      <td>NaN</td>\n",
       "      <td>NaN</td>\n",
       "    </tr>\n",
       "  </tbody>\n",
       "</table>\n",
       "</div>"
      ],
      "text/plain": [
       "                Variable Statistics Distribution\n",
       "0  Normal Distribution_1        NaN          NaN\n",
       "1  Normal Distribution_2        NaN          NaN\n",
       "2  Normal Distribution_3        NaN          NaN\n",
       "3  Uniform Distribution1        NaN          NaN\n",
       "4     Beta distribution.        NaN          NaN\n",
       "5  Uniform Distribution2        NaN          NaN"
      ]
     },
     "execution_count": 20,
     "metadata": {},
     "output_type": "execute_result"
    }
   ],
   "source": [
    "table['Variable']=data.keys()\n",
    "table"
   ]
  },
  {
   "cell_type": "markdown",
   "metadata": {
    "colab_type": "text",
    "id": "VDPx0OrJmKMq"
   },
   "source": [
    "5. Занести в стовпчик Distribution результати роботи криетрію Шапіро-Уілка. Для змінних, які розподілені за нормальним законом вносити \"normal\", в протилежному вигляді - \"non-normal\"."
   ]
  },
  {
   "cell_type": "code",
   "execution_count": 21,
   "metadata": {},
   "outputs": [
    {
     "data": {
      "text/html": [
       "<div>\n",
       "<style scoped>\n",
       "    .dataframe tbody tr th:only-of-type {\n",
       "        vertical-align: middle;\n",
       "    }\n",
       "\n",
       "    .dataframe tbody tr th {\n",
       "        vertical-align: top;\n",
       "    }\n",
       "\n",
       "    .dataframe thead th {\n",
       "        text-align: right;\n",
       "    }\n",
       "</style>\n",
       "<table border=\"1\" class=\"dataframe\">\n",
       "  <thead>\n",
       "    <tr style=\"text-align: right;\">\n",
       "      <th></th>\n",
       "      <th>Variable</th>\n",
       "      <th>Statistics</th>\n",
       "      <th>Distribution</th>\n",
       "    </tr>\n",
       "  </thead>\n",
       "  <tbody>\n",
       "    <tr>\n",
       "      <th>0</th>\n",
       "      <td>Normal Distribution_1</td>\n",
       "      <td>NaN</td>\n",
       "      <td>normal</td>\n",
       "    </tr>\n",
       "    <tr>\n",
       "      <th>1</th>\n",
       "      <td>Normal Distribution_2</td>\n",
       "      <td>NaN</td>\n",
       "      <td>normal</td>\n",
       "    </tr>\n",
       "    <tr>\n",
       "      <th>2</th>\n",
       "      <td>Normal Distribution_3</td>\n",
       "      <td>NaN</td>\n",
       "      <td>normal</td>\n",
       "    </tr>\n",
       "    <tr>\n",
       "      <th>3</th>\n",
       "      <td>Uniform Distribution1</td>\n",
       "      <td>NaN</td>\n",
       "      <td>non-normal</td>\n",
       "    </tr>\n",
       "    <tr>\n",
       "      <th>4</th>\n",
       "      <td>Beta distribution.</td>\n",
       "      <td>NaN</td>\n",
       "      <td>non-normal</td>\n",
       "    </tr>\n",
       "    <tr>\n",
       "      <th>5</th>\n",
       "      <td>Uniform Distribution2</td>\n",
       "      <td>NaN</td>\n",
       "      <td>non-normal</td>\n",
       "    </tr>\n",
       "  </tbody>\n",
       "</table>\n",
       "</div>"
      ],
      "text/plain": [
       "                Variable Statistics Distribution\n",
       "0  Normal Distribution_1        NaN       normal\n",
       "1  Normal Distribution_2        NaN       normal\n",
       "2  Normal Distribution_3        NaN       normal\n",
       "3  Uniform Distribution1        NaN   non-normal\n",
       "4     Beta distribution.        NaN   non-normal\n",
       "5  Uniform Distribution2        NaN   non-normal"
      ]
     },
     "execution_count": 21,
     "metadata": {},
     "output_type": "execute_result"
    }
   ],
   "source": [
    "table[\"Distribution\"]=['normal' if 'Normal Distribution' in x else 'non-normal'\n",
    "                          for x in table[\"Variable\"]]\n",
    "table\n",
    "                     "
   ]
  },
  {
   "cell_type": "markdown",
   "metadata": {
    "colab_type": "text",
    "id": "tNL5-LWjmgN_"
   },
   "source": [
    "6. Розрахувати для всіх змінних, що розподілені за нормальним законом розрахувати середне значення та стандартне відхилення. Записати в таблицю. Форма запису: Середнє [стандартне відхилення].\n",
    "\n"
   ]
  },
  {
   "cell_type": "code",
   "execution_count": 22,
   "metadata": {},
   "outputs": [
    {
     "data": {
      "text/html": [
       "<div>\n",
       "<style scoped>\n",
       "    .dataframe tbody tr th:only-of-type {\n",
       "        vertical-align: middle;\n",
       "    }\n",
       "\n",
       "    .dataframe tbody tr th {\n",
       "        vertical-align: top;\n",
       "    }\n",
       "\n",
       "    .dataframe thead th {\n",
       "        text-align: right;\n",
       "    }\n",
       "</style>\n",
       "<table border=\"1\" class=\"dataframe\">\n",
       "  <thead>\n",
       "    <tr style=\"text-align: right;\">\n",
       "      <th></th>\n",
       "      <th>Variable</th>\n",
       "      <th>Statistics</th>\n",
       "      <th>Distribution</th>\n",
       "    </tr>\n",
       "  </thead>\n",
       "  <tbody>\n",
       "    <tr>\n",
       "      <th>0</th>\n",
       "      <td>Normal Distribution_1</td>\n",
       "      <td>0.280 [1.337]</td>\n",
       "      <td>normal</td>\n",
       "    </tr>\n",
       "    <tr>\n",
       "      <th>1</th>\n",
       "      <td>Normal Distribution_2</td>\n",
       "      <td>0.106 [0.799]</td>\n",
       "      <td>normal</td>\n",
       "    </tr>\n",
       "    <tr>\n",
       "      <th>2</th>\n",
       "      <td>Normal Distribution_3</td>\n",
       "      <td>0.192 [0.879]</td>\n",
       "      <td>normal</td>\n",
       "    </tr>\n",
       "    <tr>\n",
       "      <th>3</th>\n",
       "      <td>Uniform Distribution1</td>\n",
       "      <td>1.337 [1.256; 1.739]</td>\n",
       "      <td>non-normal</td>\n",
       "    </tr>\n",
       "    <tr>\n",
       "      <th>4</th>\n",
       "      <td>Beta distribution.</td>\n",
       "      <td>0.398 [0.293; 0.535]</td>\n",
       "      <td>non-normal</td>\n",
       "    </tr>\n",
       "    <tr>\n",
       "      <th>5</th>\n",
       "      <td>Uniform Distribution2</td>\n",
       "      <td>0.513 [0.161; 0.716]</td>\n",
       "      <td>non-normal</td>\n",
       "    </tr>\n",
       "  </tbody>\n",
       "</table>\n",
       "</div>"
      ],
      "text/plain": [
       "                Variable            Statistics Distribution\n",
       "0  Normal Distribution_1         0.280 [1.337]       normal\n",
       "1  Normal Distribution_2         0.106 [0.799]       normal\n",
       "2  Normal Distribution_3         0.192 [0.879]       normal\n",
       "3  Uniform Distribution1  1.337 [1.256; 1.739]   non-normal\n",
       "4     Beta distribution.  0.398 [0.293; 0.535]   non-normal\n",
       "5  Uniform Distribution2  0.513 [0.161; 0.716]   non-normal"
      ]
     },
     "execution_count": 22,
     "metadata": {},
     "output_type": "execute_result"
    }
   ],
   "source": [
    "n_df=pd.DataFrame((data), columns=data.keys()) \n",
    "\n",
    "\n",
    "\n",
    "for _,val in table.iterrows():\n",
    "    name = val[\"Variable\"]    \n",
    "    if val[\"Distribution\"] != \"non-normal\": \n",
    "        val[\"Statistics\"]=\"{:.3f} [{:.3f}]\".format(n_df[name].mean(),n_df[name].std()) \n",
    "    else:\n",
    "        val[\"Statistics\"]=\"{:.3f} [{:.3f}; {:.3f}]\".format(n_df[name].median(),n_df[name].quantile(0.25),n_df[name].quantile(0.75)) \n",
    "        \n",
    "table"
   ]
  },
  {
   "cell_type": "markdown",
   "metadata": {
    "colab_type": "text",
    "id": "yNpJG4jLm6HR"
   },
   "source": [
    "7. Розрахувати для всіх змінних, що розподілені за розподілом відсутнім від нормального розрахувати медіану та інтерквартильний розмах. Записати в таблицю. Форма запису: Медіана [25%; 75%]."
   ]
  },
  {
   "cell_type": "markdown",
   "metadata": {
    "colab_type": "text",
    "id": "f5q92XD0nJ6N"
   },
   "source": [
    "8. Зберегти таблицю в пдф форматі"
   ]
  },
  {
   "cell_type": "code",
   "execution_count": 35,
   "metadata": {},
   "outputs": [
    {
     "data": {
      "image/png": "[encoded data removed]",
      "text/plain": [
       "<Figure size 504x216 with 1 Axes>"
      ]
     },
     "metadata": {
      "needs_background": "light"
     },
     "output_type": "display_data"
    }
   ],
   "source": [
    "f,ax=plt.subplots(figsize=(7,3))\n",
    "ax.axis('off')\n",
    "table_to_save=ax.table(cellText=table.values, colLabels=table.columns)\n",
    "\n",
    "to_save=PdfPages(\"table.pdf\") \n",
    "to_save.savefig(f) \n",
    "to_save.close() \n",
    "\n"
   ]
  },
  {
   "cell_type": "code",
   "execution_count": null,
   "metadata": {},
   "outputs": [],
   "source": []
  }
 ],
 "metadata": {
  "colab": {
   "name": "Task4.ipynb",
   "provenance": []
  },
  "kernelspec": {
   "display_name": "Python 3",
   "language": "python",
   "name": "python3"
  },
  "language_info": {
   "codemirror_mode": {
    "name": "ipython",
    "version": 3
   },
   "file_extension": ".py",
   "mimetype": "text/x-python",
   "name": "python",
   "nbconvert_exporter": "python",
   "pygments_lexer": "ipython3",
   "version": "3.8.2"
  }
 },
 "nbformat": 4,
 "nbformat_minor": 1
}
